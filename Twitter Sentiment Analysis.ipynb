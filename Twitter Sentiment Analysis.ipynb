{
 "cells": [
  {
   "cell_type": "code",
   "execution_count": 24,
   "metadata": {
    "collapsed": true
   },
   "outputs": [],
   "source": [
    "# Dependencies\n",
    "import tweepy\n",
    "import json\n",
    "import numpy as np\n",
    "import pandas as pd\n",
    "import matplotlib.pyplot as plt\n",
    "\n",
    "#from config import consumer_key, consumer_secret, access_token, access_token_secret\n",
    "\n",
    "# Import and Initialize Sentiment Analyzer\n",
    "from vaderSentiment.vaderSentiment import SentimentIntensityAnalyzer\n",
    "analyzer = SentimentIntensityAnalyzer()\n",
    "\n",
    "consumer_key = \"rR9EYifG337ntSf6jIZudcMML\"\n",
    "consumer_secret = \"C7CpZDCj8kLj6EWtiW6vyrhi41OAcVpIQXTpsh6eryoFxtk62J\"\n",
    "access_token = \"930145429223813121-N5RznIrke8TcHiW9kotbrNy7bOMb4ye\"\n",
    "access_token_secret = \"MuldQw0WWHeLdCBvspaCcRM3u9zvk4w8NOPYdxIZPBqDH\"\n",
    "\n",
    "# Setup Tweepy API Authentication\n",
    "auth = tweepy.OAuthHandler(consumer_key, consumer_secret)\n",
    "auth.set_access_token(access_token, access_token_secret)\n",
    "api = tweepy.API(auth, parser=tweepy.parsers.JSONParser())"
   ]
  },
  {
   "cell_type": "code",
   "execution_count": 25,
   "metadata": {
    "collapsed": true
   },
   "outputs": [],
   "source": [
    "# Target User Account\n",
    "target_user = (\"@BBC\",\"@CBS\",\"@CNN\",\"@Fox\",\"@NYTimes\")\n",
    "\n",
    "# \"Real Person\" Filters\n",
    "min_tweets = 5\n",
    "max_tweets = 10000\n",
    "max_followers = 2500\n",
    "max_following = 2500\n",
    "lang = \"en\"\n",
    "\n",
    "# Array to hold sentiment\n",
    "sentiments_array = []\n",
    "sentiment_avg_array = []"
   ]
  },
  {
   "cell_type": "code",
   "execution_count": 31,
   "metadata": {},
   "outputs": [
    {
     "data": {
      "text/html": [
       "<div>\n",
       "<style>\n",
       "    .dataframe thead tr:only-child th {\n",
       "        text-align: right;\n",
       "    }\n",
       "\n",
       "    .dataframe thead th {\n",
       "        text-align: left;\n",
       "    }\n",
       "\n",
       "    .dataframe tbody tr th {\n",
       "        vertical-align: top;\n",
       "    }\n",
       "</style>\n",
       "<table border=\"1\" class=\"dataframe\">\n",
       "  <thead>\n",
       "    <tr style=\"text-align: right;\">\n",
       "      <th></th>\n",
       "      <th>Compound</th>\n",
       "      <th>Date</th>\n",
       "      <th>Negative</th>\n",
       "      <th>Neutral</th>\n",
       "      <th>Positive</th>\n",
       "      <th>Tweets Ago</th>\n",
       "      <th>User</th>\n",
       "    </tr>\n",
       "  </thead>\n",
       "  <tbody>\n",
       "    <tr>\n",
       "      <th>0</th>\n",
       "      <td>-0.3818</td>\n",
       "      <td>Sat Dec 02 01:21:32 +0000 2017</td>\n",
       "      <td>0.880</td>\n",
       "      <td>0.120</td>\n",
       "      <td>0.000</td>\n",
       "      <td>1</td>\n",
       "      <td>@BBC</td>\n",
       "    </tr>\n",
       "    <tr>\n",
       "      <th>1</th>\n",
       "      <td>0.0000</td>\n",
       "      <td>Sat Dec 02 01:20:31 +0000 2017</td>\n",
       "      <td>1.000</td>\n",
       "      <td>0.000</td>\n",
       "      <td>0.000</td>\n",
       "      <td>2</td>\n",
       "      <td>@BBC</td>\n",
       "    </tr>\n",
       "    <tr>\n",
       "      <th>2</th>\n",
       "      <td>-0.5267</td>\n",
       "      <td>Sat Dec 02 01:20:23 +0000 2017</td>\n",
       "      <td>0.841</td>\n",
       "      <td>0.159</td>\n",
       "      <td>0.000</td>\n",
       "      <td>3</td>\n",
       "      <td>@BBC</td>\n",
       "    </tr>\n",
       "    <tr>\n",
       "      <th>3</th>\n",
       "      <td>0.3605</td>\n",
       "      <td>Sat Dec 02 01:20:16 +0000 2017</td>\n",
       "      <td>0.898</td>\n",
       "      <td>0.000</td>\n",
       "      <td>0.102</td>\n",
       "      <td>4</td>\n",
       "      <td>@BBC</td>\n",
       "    </tr>\n",
       "    <tr>\n",
       "      <th>4</th>\n",
       "      <td>0.0000</td>\n",
       "      <td>Sat Dec 02 01:19:14 +0000 2017</td>\n",
       "      <td>1.000</td>\n",
       "      <td>0.000</td>\n",
       "      <td>0.000</td>\n",
       "      <td>5</td>\n",
       "      <td>@BBC</td>\n",
       "    </tr>\n",
       "  </tbody>\n",
       "</table>\n",
       "</div>"
      ],
      "text/plain": [
       "   Compound                            Date  Negative  Neutral  Positive  \\\n",
       "0   -0.3818  Sat Dec 02 01:21:32 +0000 2017     0.880    0.120     0.000   \n",
       "1    0.0000  Sat Dec 02 01:20:31 +0000 2017     1.000    0.000     0.000   \n",
       "2   -0.5267  Sat Dec 02 01:20:23 +0000 2017     0.841    0.159     0.000   \n",
       "3    0.3605  Sat Dec 02 01:20:16 +0000 2017     0.898    0.000     0.102   \n",
       "4    0.0000  Sat Dec 02 01:19:14 +0000 2017     1.000    0.000     0.000   \n",
       "\n",
       "   Tweets Ago  User  \n",
       "0           1  @BBC  \n",
       "1           2  @BBC  \n",
       "2           3  @BBC  \n",
       "3           4  @BBC  \n",
       "4           5  @BBC  "
      ]
     },
     "execution_count": 31,
     "metadata": {},
     "output_type": "execute_result"
    }
   ],
   "source": [
    "# Loop through all target users\n",
    "for target in target_user:\n",
    "    \n",
    "    counter = 1\n",
    "\n",
    "    # Variable for holding the oldest tweet\n",
    "    oldest_tweet = None\n",
    "\n",
    "    # Variables for holding sentiments\n",
    "    compound_list = []\n",
    "    positive_list = []\n",
    "    negative_list = []\n",
    "    neutral_list = []\n",
    "\n",
    "    # Loop through 10 times\n",
    "    for x in range(1):\n",
    "\n",
    "        # Run search around each tweet\n",
    "        public_tweets = api.search(\n",
    "            target, count=100, result_type=\"recent\", max_id=oldest_tweet)\n",
    "\n",
    "        # Loop through all tweets\n",
    "        for tweet in public_tweets[\"statuses\"]:\n",
    "\n",
    "            # Use filters to check if user meets conditions\n",
    "            if (tweet[\"user\"][\"followers_count\"] < max_followers\n",
    "                and tweet[\"user\"][\"statuses_count\"] > min_tweets\n",
    "                and tweet[\"user\"][\"statuses_count\"] < max_tweets\n",
    "                and tweet[\"user\"][\"friends_count\"] < max_following\n",
    "                and tweet[\"user\"][\"lang\"] == lang):\n",
    "\n",
    "                # Run Vader Analysis on each tweet\n",
    "                results = analyzer.polarity_scores(tweet[\"text\"])\n",
    "                compound = results[\"compound\"]\n",
    "                pos = results[\"pos\"]\n",
    "                neu = results[\"neu\"]\n",
    "                neg = results[\"neg\"]\n",
    "\n",
    "                # Add each value to the appropriate array\n",
    "                compound_list.append(compound)\n",
    "                positive_list.append(pos)\n",
    "                negative_list.append(neg)\n",
    "                neutral_list.append(neu)\n",
    "                \n",
    "                # Set the new oldest_tweet value\n",
    "                oldest_tweet = int(tweet[\"id_str\"]) - 1\n",
    "                \n",
    "                # Add sentiments for each tweet into an array\n",
    "                sentiments_array.append({\"Date\": tweet[\"created_at\"],\n",
    "                           \"User\": target,           \n",
    "                           \"Compound\": compound,\n",
    "                           \"Positive\": pos,\n",
    "                           \"Negative\": neu,\n",
    "                           \"Neutral\": neg,\n",
    "                           \"Tweets Ago\": counter})\n",
    "                sentiments_pd = pd.DataFrame.from_dict(sentiments_array)\n",
    "            \n",
    "                # Add to counter \n",
    "                counter = counter + 1\n",
    "        \n",
    "   \n",
    "\n",
    "                \n",
    "    # Store the Average Sentiments\n",
    "    sentiment_avg_array.append({\"User\": target,\n",
    "        \"Compound\": np.mean(compound_list),\n",
    "        \"Positive\": np.mean(positive_list),\n",
    "        \"Negative\": np.mean(negative_list),\n",
    "        \"Neutral\": np.mean(neutral_list),\n",
    "        \"Tweet Count\": len(compound_list)})\n",
    "    sentiment_avg_pd = pd.DataFrame.from_dict(sentiment_avg_array)\n"
   ]
  },
  {
   "cell_type": "code",
   "execution_count": 27,
   "metadata": {
    "collapsed": true
   },
   "outputs": [],
   "source": [
    "sentiments_pd = sentiments_pd.set_index('User')\n",
    "BBC = sentiments_pd.loc['@BBC']\n",
    "CBS = sentiments_pd.loc['@CBS']\n",
    "CNN = sentiments_pd.loc['@CNN']\n",
    "FOX = sentiments_pd.loc['@Fox']\n",
    "NYTimes = sentiments_pd.loc['@NYTimes']"
   ]
  },
  {
   "cell_type": "code",
   "execution_count": 28,
   "metadata": {},
   "outputs": [
    {
     "data": {
      "image/png": "[encoded data removed]",
      "text/plain": [
       "<matplotlib.figure.Figure at 0x1c424280c18>"
      ]
     },
     "metadata": {},
     "output_type": "display_data"
    }
   ],
   "source": [
    "# Plot the sentiments\n",
    "plt.figure(figsize = (10,10))\n",
    "BBC = plt.scatter(BBC['Tweets Ago'], BBC['Compound'], color='blue', edgecolors='black')\n",
    "CBS = plt.scatter(CBS['Tweets Ago'], CBS['Compound'], color='red', edgecolors='black')\n",
    "CNN = plt.scatter(CNN['Tweets Ago'], CNN['Compound'], color='green', edgecolors='black')\n",
    "FOX = plt.scatter(FOX['Tweets Ago'], FOX['Compound'], color='yellow', edgecolors='black')\n",
    "NYTimes = plt.scatter(NYTimes['Tweets Ago'], NYTimes['Compound'], color='orange', edgecolors='black')\n",
    "plt.xlabel('Tweets Ago')\n",
    "plt.ylabel('Tweet Polarity')\n",
    "plt.title('Sentiment Analysis of Media Tweets')\n",
    "plt.legend((BBC,CBS,CNN,FOX,NYTimes),('BBC', 'CBS', 'CNN', 'FOX', 'NYTimes'),numpoints=1, loc='best', ncol=3, fontsize=8)\n",
    "plt.grid()\n",
    "plt.show()"
   ]
  },
  {
   "cell_type": "code",
   "execution_count": 29,
   "metadata": {},
   "outputs": [
    {
     "data": {
      "text/html": [
       "<div>\n",
       "<style>\n",
       "    .dataframe thead tr:only-child th {\n",
       "        text-align: right;\n",
       "    }\n",
       "\n",
       "    .dataframe thead th {\n",
       "        text-align: left;\n",
       "    }\n",
       "\n",
       "    .dataframe tbody tr th {\n",
       "        vertical-align: top;\n",
       "    }\n",
       "</style>\n",
       "<table border=\"1\" class=\"dataframe\">\n",
       "  <thead>\n",
       "    <tr style=\"text-align: right;\">\n",
       "      <th></th>\n",
       "      <th>Compound</th>\n",
       "      <th>Negative</th>\n",
       "      <th>Neutral</th>\n",
       "      <th>Positive</th>\n",
       "      <th>Tweet Count</th>\n",
       "    </tr>\n",
       "    <tr>\n",
       "      <th>User</th>\n",
       "      <th></th>\n",
       "      <th></th>\n",
       "      <th></th>\n",
       "      <th></th>\n",
       "      <th></th>\n",
       "    </tr>\n",
       "  </thead>\n",
       "  <tbody>\n",
       "    <tr>\n",
       "      <th>@BBC</th>\n",
       "      <td>0.033164</td>\n",
       "      <td>0.050359</td>\n",
       "      <td>0.879846</td>\n",
       "      <td>0.069769</td>\n",
       "      <td>39</td>\n",
       "    </tr>\n",
       "    <tr>\n",
       "      <th>@CBS</th>\n",
       "      <td>0.248418</td>\n",
       "      <td>0.045265</td>\n",
       "      <td>0.801294</td>\n",
       "      <td>0.153471</td>\n",
       "      <td>34</td>\n",
       "    </tr>\n",
       "    <tr>\n",
       "      <th>@CNN</th>\n",
       "      <td>-0.033906</td>\n",
       "      <td>0.100815</td>\n",
       "      <td>0.819056</td>\n",
       "      <td>0.080111</td>\n",
       "      <td>54</td>\n",
       "    </tr>\n",
       "    <tr>\n",
       "      <th>@Fox</th>\n",
       "      <td>0.025877</td>\n",
       "      <td>0.052271</td>\n",
       "      <td>0.879521</td>\n",
       "      <td>0.068208</td>\n",
       "      <td>48</td>\n",
       "    </tr>\n",
       "    <tr>\n",
       "      <th>@NYTimes</th>\n",
       "      <td>-0.529041</td>\n",
       "      <td>0.240976</td>\n",
       "      <td>0.741146</td>\n",
       "      <td>0.017902</td>\n",
       "      <td>41</td>\n",
       "    </tr>\n",
       "  </tbody>\n",
       "</table>\n",
       "</div>"
      ],
      "text/plain": [
       "          Compound  Negative   Neutral  Positive  Tweet Count\n",
       "User                                                         \n",
       "@BBC      0.033164  0.050359  0.879846  0.069769           39\n",
       "@CBS      0.248418  0.045265  0.801294  0.153471           34\n",
       "@CNN     -0.033906  0.100815  0.819056  0.080111           54\n",
       "@Fox      0.025877  0.052271  0.879521  0.068208           48\n",
       "@NYTimes -0.529041  0.240976  0.741146  0.017902           41"
      ]
     },
     "execution_count": 29,
     "metadata": {},
     "output_type": "execute_result"
    }
   ],
   "source": [
    "sentiment_user_pd = sentiment_avg_pd.set_index('User')\n",
    "sentiment_user_pd"
   ]
  },
  {
   "cell_type": "code",
   "execution_count": 33,
   "metadata": {},
   "outputs": [
    {
     "data": {
      "image/png": "[encoded data removed]",
      "text/plain": [
       "<matplotlib.figure.Figure at 0x1c424209d68>"
      ]
     },
     "metadata": {},
     "output_type": "display_data"
    }
   ],
   "source": [
    "sentiment_avg_pd.groupby([\"User\"])[\"Compound\"].mean().plot(kind=\"bar\")\n",
    "plt.show()"
   ]
  },
  {
   "cell_type": "code",
   "execution_count": null,
   "metadata": {},
   "outputs": [],
   "source": [
    "# To do:\n",
    "# - Clean Code\n",
    "# - Clean Graphs\n",
    "# - Have Program Run For 200 tweets\n"
   ]
  },
  {
   "cell_type": "code",
   "execution_count": null,
   "metadata": {
    "collapsed": true
   },
   "outputs": [],
   "source": []
  },
  {
   "cell_type": "code",
   "execution_count": null,
   "metadata": {},
   "outputs": [],
   "source": []
  },
  {
   "cell_type": "code",
   "execution_count": null,
   "metadata": {},
   "outputs": [],
   "source": []
  },
  {
   "cell_type": "code",
   "execution_count": null,
   "metadata": {
    "collapsed": true
   },
   "outputs": [],
   "source": []
  },
  {
   "cell_type": "code",
   "execution_count": null,
   "metadata": {
    "collapsed": true
   },
   "outputs": [],
   "source": []
  },
  {
   "cell_type": "code",
   "execution_count": null,
   "metadata": {
    "collapsed": true
   },
   "outputs": [],
   "source": []
  }
 ],
 "metadata": {
  "kernelspec": {
   "display_name": "Python 3",
   "language": "python",
   "name": "python3"
  },
  "language_info": {
   "codemirror_mode": {
    "name": "ipython",
    "version": 3
   },
   "file_extension": ".py",
   "mimetype": "text/x-python",
   "name": "python",
   "nbconvert_exporter": "python",
   "pygments_lexer": "ipython3",
   "version": "3.6.2"
  }
 },
 "nbformat": 4,
 "nbformat_minor": 2
}
